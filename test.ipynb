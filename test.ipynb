{
 "cells": [
  {
   "cell_type": "code",
   "execution_count": 9,
   "metadata": {},
   "outputs": [
    {
     "data": {
      "text/plain": [
       "'<annotation><folder>all</folder><filename>21.jpg</filename><path>C:\\\\projects\\\\ČČ\\\\New_dataset\\\\teeth\\\\all\\\\21.jpg</path><object><name>caries</name><bndbox><bndbox>162</bndbox><bndbox>133</bndbox><bndbox>176</bndbox><bndbox>143</bndbox></bndbox></object><object><name>caries</name><bndbox><bndbox>66</bndbox><bndbox>135</bndbox><bndbox>75</bndbox><bndbox>145</bndbox></bndbox></object><object><name>caries</name><bndbox><bndbox>164</bndbox><bndbox>144</bndbox><bndbox>174</bndbox><bndbox>151</bndbox></bndbox></object><object><name>teeth</name><bndbox><bndbox>160</bndbox><bndbox>131</bndbox><bndbox>181</bndbox><bndbox>145</bndbox></bndbox></object><object><name>teeth</name><bndbox><bndbox>160</bndbox><bndbox>144</bndbox><bndbox>175</bndbox><bndbox>158</bndbox></bndbox></object><object><name>teeth</name><bndbox><bndbox>65</bndbox><bndbox>133</bndbox><bndbox>82</bndbox><bndbox>151</bndbox></bndbox></object><object><name>teeth</name><bndbox><bndbox>161</bndbox><bndbox>79</bndbox><bndbox>174</bndbox><bndbox>89</bndbox></bndbox></object></annotation>'"
      ]
     },
     "execution_count": 9,
     "metadata": {},
     "output_type": "execute_result"
    }
   ],
   "source": [
    "with open ('./data/all_xml/21.xml',encoding=\"cp500\") as f:\n",
    "    d = f.read().encode('cp500').decode('cp1250')\n",
    "d"
   ]
  },
  {
   "cell_type": "code",
   "execution_count": 10,
   "metadata": {},
   "outputs": [
    {
     "data": {
      "text/plain": [
       "['<annotation><folder>all</folder><filename>21.jpg</filename><path>C:\\\\projects\\\\ČČ\\\\New_dataset\\\\teeth\\\\all\\\\21.jpg</path>',\n",
       " '<name>caries</name><bndbox><bndbox>162</bndbox><bndbox>133</bndbox><bndbox>176</bndbox><bndbox>143</bndbox></bndbox></object>',\n",
       " '<name>caries</name><bndbox><bndbox>66</bndbox><bndbox>135</bndbox><bndbox>75</bndbox><bndbox>145</bndbox></bndbox></object>',\n",
       " '<name>caries</name><bndbox><bndbox>164</bndbox><bndbox>144</bndbox><bndbox>174</bndbox><bndbox>151</bndbox></bndbox></object>',\n",
       " '<name>teeth</name><bndbox><bndbox>160</bndbox><bndbox>131</bndbox><bndbox>181</bndbox><bndbox>145</bndbox></bndbox></object>',\n",
       " '<name>teeth</name><bndbox><bndbox>160</bndbox><bndbox>144</bndbox><bndbox>175</bndbox><bndbox>158</bndbox></bndbox></object>',\n",
       " '<name>teeth</name><bndbox><bndbox>65</bndbox><bndbox>133</bndbox><bndbox>82</bndbox><bndbox>151</bndbox></bndbox></object>',\n",
       " '<name>teeth</name><bndbox><bndbox>161</bndbox><bndbox>79</bndbox><bndbox>174</bndbox><bndbox>89</bndbox></bndbox></object></annotation>']"
      ]
     },
     "execution_count": 10,
     "metadata": {},
     "output_type": "execute_result"
    }
   ],
   "source": [
    "d.split('<object>')"
   ]
  },
  {
   "cell_type": "code",
   "execution_count": 11,
   "metadata": {},
   "outputs": [],
   "source": [
    "import xml.etree.ElementTree as ET\n",
    "import glob\n",
    "import os\n",
    "import json"
   ]
  },
  {
   "cell_type": "code",
   "execution_count": 12,
   "metadata": {},
   "outputs": [],
   "source": [
    "def xml_to_yolo_bbox(bbox, w, h):\n",
    "    # xmin, ymin, xmax, ymax\n",
    "    x_center = ((bbox[2] + bbox[0]) / 2) / w\n",
    "    y_center = ((bbox[3] + bbox[1]) / 2) / h\n",
    "    width = (bbox[2] - bbox[0]) / w\n",
    "    height = (bbox[3] - bbox[1]) / h\n",
    "    return [x_center, y_center, width, height]\n",
    "def yolo_to_xml_bbox(bbox, w, h):\n",
    "    # x_center, y_center width heigth\n",
    "    w_half_len = (bbox[2] * w) / 2\n",
    "    h_half_len = (bbox[3] * h) / 2\n",
    "    xmin = int((bbox[0] * w) - w_half_len)\n",
    "    ymin = int((bbox[1] * h) - h_half_len)\n",
    "    xmax = int((bbox[0] * w) + w_half_len)\n",
    "    ymax = int((bbox[1] * h) + h_half_len)\n",
    "    return [xmin, ymin, xmax, ymax]"
   ]
  },
  {
   "cell_type": "code",
   "execution_count": 13,
   "metadata": {},
   "outputs": [],
   "source": [
    "classes = []\n",
    "input_dir = \"data/all_xml/\"\n",
    "output_dir = \"labels/\"\n",
    "image_dir = \"data/all/\"\n",
    "os.mkdir(output_dir)"
   ]
  },
  {
   "cell_type": "code",
   "execution_count": 14,
   "metadata": {},
   "outputs": [],
   "source": [
    "if not os.path.isdir(output_dir):\n",
    "    os.mkdir(output_dir)"
   ]
  },
  {
   "cell_type": "code",
   "execution_count": 15,
   "metadata": {},
   "outputs": [],
   "source": [
    "files = glob.glob(os.path.join(input_dir, '*.xml'))\n",
    "for fil in files:\n",
    "    basename = os.path.basename(fil)\n",
    "    filename = os.path.splitext(basename)[0]\n",
    "    if not os.path.exists(os.path.join(image_dir, f\"{filename}.jpg\")):\n",
    "        print(f\"{filename} image does not exist!\")\n",
    "        continue"
   ]
  },
  {
   "cell_type": "code",
   "execution_count": 23,
   "metadata": {},
   "outputs": [],
   "source": [
    "parser = ET.XMLParser(encoding=\"cp500\")"
   ]
  },
  {
   "cell_type": "code",
   "execution_count": 24,
   "metadata": {},
   "outputs": [
    {
     "ename": "ParseError",
     "evalue": "unknown encoding: line 1, column 0 (<string>)",
     "output_type": "error",
     "traceback": [
      "Traceback \u001b[1;36m(most recent call last)\u001b[0m:\n",
      "  File \u001b[0;32mc:\\Users\\8FEE~1\\AppData\\Local\\pypoetry\\Cache\\virtualenvs\\aihack-ufo-GTM4Y-yw-py3.8\\lib\\site-packages\\IPython\\core\\interactiveshell.py:3398\u001b[0m in \u001b[0;35mrun_code\u001b[0m\n    exec(code_obj, self.user_global_ns, self.user_ns)\n",
      "  Input \u001b[0;32mIn [24]\u001b[0m in \u001b[0;35m<cell line: 2>\u001b[0m\n    tree = ET.parse(fil, parser=parser)\n",
      "  File \u001b[0;32mc:\\python38\\lib\\xml\\etree\\ElementTree.py:1202\u001b[0m in \u001b[0;35mparse\u001b[0m\n    tree.parse(source, parser)\n",
      "\u001b[1;36m  File \u001b[1;32mc:\\python38\\lib\\xml\\etree\\ElementTree.py:601\u001b[1;36m in \u001b[1;35mparse\u001b[1;36m\u001b[0m\n\u001b[1;33m    parser.feed(data)\u001b[0m\n",
      "\u001b[1;36m  File \u001b[1;32m<string>\u001b[1;36m\u001b[0m\n\u001b[1;31mParseError\u001b[0m\u001b[1;31m:\u001b[0m unknown encoding: line 1, column 0\n"
     ]
    }
   ],
   "source": [
    "files = glob.glob(os.path.join(input_dir, '*.xml'))\n",
    "for fil in files:\n",
    "    \n",
    "    ...\n",
    "    result = []\n",
    "    tree = ET.parse(fil, parser=parser)\n",
    "    root = tree.getroot()\n",
    "    print(tree)\n",
    "    print(root)"
   ]
  },
  {
   "cell_type": "code",
   "execution_count": 20,
   "metadata": {},
   "outputs": [
    {
     "ename": "ParseError",
     "evalue": "not well-formed (invalid token): line 1, column 81 (<string>)",
     "output_type": "error",
     "traceback": [
      "Traceback \u001b[1;36m(most recent call last)\u001b[0m:\n",
      "  File \u001b[0;32mc:\\Users\\8FEE~1\\AppData\\Local\\pypoetry\\Cache\\virtualenvs\\aihack-ufo-GTM4Y-yw-py3.8\\lib\\site-packages\\IPython\\core\\interactiveshell.py:3398\u001b[0m in \u001b[0;35mrun_code\u001b[0m\n    exec(code_obj, self.user_global_ns, self.user_ns)\n",
      "  Input \u001b[0;32mIn [20]\u001b[0m in \u001b[0;35m<cell line: 1>\u001b[0m\n    tree = ET.parse('data/all_xml/0_ (1).xml')\n",
      "  File \u001b[0;32mc:\\python38\\lib\\xml\\etree\\ElementTree.py:1202\u001b[0m in \u001b[0;35mparse\u001b[0m\n    tree.parse(source, parser)\n",
      "\u001b[1;36m  File \u001b[1;32mc:\\python38\\lib\\xml\\etree\\ElementTree.py:595\u001b[1;36m in \u001b[1;35mparse\u001b[1;36m\u001b[0m\n\u001b[1;33m    self._root = parser._parse_whole(source)\u001b[0m\n",
      "\u001b[1;36m  File \u001b[1;32m<string>\u001b[1;36m\u001b[0m\n\u001b[1;31mParseError\u001b[0m\u001b[1;31m:\u001b[0m not well-formed (invalid token): line 1, column 81\n"
     ]
    }
   ],
   "source": [
    "tree = ET.parse('data/all_xml/0_ (1).xml')"
   ]
  },
  {
   "cell_type": "code",
   "execution_count": 16,
   "metadata": {},
   "outputs": [
    {
     "ename": "ParseError",
     "evalue": "not well-formed (invalid token): line 1, column 76 (<string>)",
     "output_type": "error",
     "traceback": [
      "Traceback \u001b[1;36m(most recent call last)\u001b[0m:\n",
      "  File \u001b[0;32mc:\\Users\\8FEE~1\\AppData\\Local\\pypoetry\\Cache\\virtualenvs\\aihack-ufo-GTM4Y-yw-py3.8\\lib\\site-packages\\IPython\\core\\interactiveshell.py:3398\u001b[0m in \u001b[0;35mrun_code\u001b[0m\n    exec(code_obj, self.user_global_ns, self.user_ns)\n",
      "  Input \u001b[0;32mIn [16]\u001b[0m in \u001b[0;35m<cell line: 2>\u001b[0m\n    tree = ET.parse(fil)\n",
      "  File \u001b[0;32mc:\\python38\\lib\\xml\\etree\\ElementTree.py:1202\u001b[0m in \u001b[0;35mparse\u001b[0m\n    tree.parse(source, parser)\n",
      "\u001b[1;36m  File \u001b[1;32mc:\\python38\\lib\\xml\\etree\\ElementTree.py:595\u001b[1;36m in \u001b[1;35mparse\u001b[1;36m\u001b[0m\n\u001b[1;33m    self._root = parser._parse_whole(source)\u001b[0m\n",
      "\u001b[1;36m  File \u001b[1;32m<string>\u001b[1;36m\u001b[0m\n\u001b[1;31mParseError\u001b[0m\u001b[1;31m:\u001b[0m not well-formed (invalid token): line 1, column 76\n"
     ]
    }
   ],
   "source": [
    "files = glob.glob(os.path.join(input_dir, '*.xml'))\n",
    "for fil in files:\n",
    "    \n",
    "    ...\n",
    "    result = []\n",
    "    tree = ET.parse(fil)\n",
    "    root = tree.getroot()\n",
    "    width = int(root.find(\"size\").find(\"width\").text)\n",
    "    height = int(root.find(\"size\").find(\"height\").text)\n",
    "    for obj in root.findall('object'):\n",
    "        label = obj.find(\"name\").text\n",
    "        if label not in classes:\n",
    "            classes.append(label)\n",
    "        index = classes.index(label)\n",
    "        pil_bbox = [int(x.text) for x in obj.find(\"bndbox\")]\n",
    "        yolo_bbox = xml_to_yolo_bbox(pil_bbox, width, height)\n",
    "        bbox_string = \" \".join([str(x) for x in yolo_bbox])\n",
    "        result.append(f\"{index} {bbox_string}\")\n",
    "    if result:\n",
    "        with open(os.path.join(output_dir, f\"{filename}.txt\"), \"w\", encoding=\"utf-8\") as f:\n",
    "            f.write(\"\\n\".join(result))"
   ]
  },
  {
   "cell_type": "code",
   "execution_count": null,
   "metadata": {},
   "outputs": [],
   "source": []
  }
 ],
 "metadata": {
  "kernelspec": {
   "display_name": "Python 3.8.9 ('aihack-ufo-GTM4Y-yw-py3.8')",
   "language": "python",
   "name": "python3"
  },
  "language_info": {
   "codemirror_mode": {
    "name": "ipython",
    "version": 3
   },
   "file_extension": ".py",
   "mimetype": "text/x-python",
   "name": "python",
   "nbconvert_exporter": "python",
   "pygments_lexer": "ipython3",
   "version": "3.8.9"
  },
  "orig_nbformat": 4,
  "vscode": {
   "interpreter": {
    "hash": "708d7f490930006b7f620d6e68d859217565e867835192e47fa42f1ad00afcd0"
   }
  }
 },
 "nbformat": 4,
 "nbformat_minor": 2
}
